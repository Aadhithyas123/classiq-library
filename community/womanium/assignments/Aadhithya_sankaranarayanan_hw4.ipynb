import classiq

# print(classiq.__version__)

from classiq import *
from classiq.qmod.symbolic import logical_or
from classiq.execution import ExecutionPreferences

size = 4  # Number of qubits (the vertices (log2 of 16 nodes))
num_nodes = 2**size  # Total number of nodes (16 nodes)


@qfunc
def prepare_minus(x:QBit):
    X(x)
    H(x)

@qfunc
def diffuser_oracle( aux: Output[QNum], x:QNum ):
    aux^=(x!=0)

@qfunc
def zero_diffuser( x: QNum ):
    aux = QNum('aux')
    allocate(1, aux)
    within_apply(compute= lambda: prepare_minus(aux),
                 action=lambda: diffuser_oracle)
    

# @qfunc
def W_iteration( i:int, vertices: QNum, adjacent_vertices: QNum):
    prob = [0]*num_nodes
    if i == 0:
        prob[15] = 0
        prob[i + 1] = 1.0   # If at the first node, move to the right node (node 1)
    elif i == num_nodes - 1:
        prob[0]=0
        prob[i - 1] = 1.0   # If at the last node, move to the left node (node 14)
    else:
        prob[i - 1] = 0.5   # Probability of moving to the left node
        prob[i + 1] = 0.5   # Probability of moving to the right node
    
    print(f'Node={i}, prob vec ={prob}')
    control(ctrl=vertices==i,
            operand=lambda: within_apply(
              compute= lambda: inplace_prepare_state(probabilities=prob, bound=0.01, target=adjacent_vertices),
              action= lambda: zero_diffuser(adjacent_vertices)))

@qfunc
def W_operator(vertices: QNum, adjacent_vertices: QNum):
    for i in range(num_nodes):
        W_iteration(i, vertices, adjacent_vertices)

@qfunc
def edge_oracle(res:Output[QBit], vertices: QNum, adjacent_vertices: QNum):
    res |= (((vertices - adjacent_vertices) == 1) | ((vertices - adjacent_vertices) == -1))


@qfunc
def bitwise_swap(x: QArray[QBit], y:QArray[QBit]):
    repeat(count= x.len,
           iteration= lambda i: SWAP(x[i],y[i])) 

@qfunc 
def S_operator(vertices:QNum, adjacent_vertices: QNum):
    res = QNum('res')
    edge_oracle(res,vertices,adjacent_vertices)
    control(ctrl= res==1,
        operand= lambda: bitwise_swap(vertices,adjacent_vertices))
    

@qfunc 
def main(vertices:Output[QNum], adjacent_vertices:Output[QNum]):

    allocate(size, vertices)  # Allocate qubits for vertices
    hadamard_transform(vertices)  # Apply Hadamard transform to initialize superposition
    allocate(size, adjacent_vertices)  # Allocate qubits for adjacent vertices
    
    W_operator(vertices, adjacent_vertices)  # Apply coin operator
    S_operator(vertices, adjacent_vertices)  # Apply shift operator


# Create and synthesize the quantum model
q_mod = create_model(main)
q_prog = synthesize(q_mod)
show(q_prog)
